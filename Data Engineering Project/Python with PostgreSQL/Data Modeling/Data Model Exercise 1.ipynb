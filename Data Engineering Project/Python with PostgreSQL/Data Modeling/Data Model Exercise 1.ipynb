{
 "cells": [
  {
   "cell_type": "markdown",
   "id": "53fe214d-8af5-472d-9a78-40d1bb6d4580",
   "metadata": {},
   "source": [
    "# Exercise 1: Creating a Table with PostgreSQL"
   ]
  },
  {
   "cell_type": "markdown",
   "id": "9f1038fb-ff9b-4f8b-8abb-f27c05def138",
   "metadata": {},
   "source": [
    "## Install package psycopg2\n",
    "#### Psycopg2 is a PostgreSQl database driver, it is used to perform operations on PostgreSQL using Python\n",
    "##### It is Designed for multi-threaded applications. SQL queries are executed with psycopg2 with the help of execute() method. It is used to Execute a database operantion query or command."
   ]
  },
  {
   "cell_type": "code",
   "execution_count": 1,
   "id": "408419f4-efe9-4f3a-9c0c-56549e1d8361",
   "metadata": {},
   "outputs": [
    {
     "name": "stdout",
     "output_type": "stream",
     "text": [
      "Collecting psycopg2\n",
      "  Obtaining dependency information for psycopg2 from https://files.pythonhosted.org/packages/7b/69/3afcafc622a52bbe90da947411a063a6f33ecc7243bad7b31fe358db92ff/psycopg2-2.9.7-cp311-cp311-win_amd64.whl.metadata\n",
      "  Downloading psycopg2-2.9.7-cp311-cp311-win_amd64.whl.metadata (4.5 kB)\n",
      "Downloading psycopg2-2.9.7-cp311-cp311-win_amd64.whl (1.2 MB)\n",
      "   ---------------------------------------- 0.0/1.2 MB ? eta -:--:--\n",
      "   - -------------------------------------- 0.0/1.2 MB 640.0 kB/s eta 0:00:02\n",
      "   -- ------------------------------------- 0.1/1.2 MB 919.0 kB/s eta 0:00:02\n",
      "   ---- ----------------------------------- 0.1/1.2 MB 901.1 kB/s eta 0:00:02\n",
      "   -------- ------------------------------- 0.2/1.2 MB 1.3 MB/s eta 0:00:01\n",
      "   --------- ------------------------------ 0.3/1.2 MB 1.3 MB/s eta 0:00:01\n",
      "   ------------ --------------------------- 0.4/1.2 MB 1.3 MB/s eta 0:00:01\n",
      "   -------------- ------------------------- 0.4/1.2 MB 1.3 MB/s eta 0:00:01\n",
      "   ------------------- -------------------- 0.6/1.2 MB 1.5 MB/s eta 0:00:01\n",
      "   ------------------------ --------------- 0.7/1.2 MB 1.7 MB/s eta 0:00:01\n",
      "   ---------------------------- ----------- 0.8/1.2 MB 1.8 MB/s eta 0:00:01\n",
      "   ------------------------------- -------- 0.9/1.2 MB 1.8 MB/s eta 0:00:01\n",
      "   ----------------------------------- ---- 1.0/1.2 MB 1.8 MB/s eta 0:00:01\n",
      "   ------------------------------------- -- 1.1/1.2 MB 1.8 MB/s eta 0:00:01\n",
      "   ---------------------------------------  1.2/1.2 MB 1.8 MB/s eta 0:00:01\n",
      "   ---------------------------------------  1.2/1.2 MB 1.8 MB/s eta 0:00:01\n",
      "   ---------------------------------------  1.2/1.2 MB 1.8 MB/s eta 0:00:01\n",
      "   ---------------------------------------  1.2/1.2 MB 1.8 MB/s eta 0:00:01\n",
      "   ---------------------------------------  1.2/1.2 MB 1.8 MB/s eta 0:00:01\n",
      "   ---------------------------------------  1.2/1.2 MB 1.8 MB/s eta 0:00:01\n",
      "   ---------------------------------------  1.2/1.2 MB 1.8 MB/s eta 0:00:01\n",
      "   ---------------------------------------  1.2/1.2 MB 1.8 MB/s eta 0:00:01\n",
      "   ---------------------------------------  1.2/1.2 MB 1.8 MB/s eta 0:00:01\n",
      "   ---------------------------------------  1.2/1.2 MB 1.8 MB/s eta 0:00:01\n",
      "   ---------------------------------------- 1.2/1.2 MB 1.1 MB/s eta 0:00:00\n",
      "Installing collected packages: psycopg2\n",
      "Successfully installed psycopg2-2.9.7\n"
     ]
    }
   ],
   "source": [
    "!pip install psycopg2"
   ]
  },
  {
   "cell_type": "markdown",
   "id": "b6ec8ee9-0c0f-4e05-beb5-38ce0e640694",
   "metadata": {},
   "source": [
    "# Import the Library"
   ]
  },
  {
   "cell_type": "code",
   "execution_count": 1,
   "id": "3018aba6-0176-4816-8ea9-7b48fbea1053",
   "metadata": {},
   "outputs": [],
   "source": [
    "import psycopg2"
   ]
  },
  {
   "cell_type": "markdown",
   "id": "3841e33e-6f3c-4eea-a7e3-d7c4109bd857",
   "metadata": {},
   "source": [
    "# Create a Connection to the Database "
   ]
  },
  {
   "cell_type": "code",
   "execution_count": 5,
   "id": "43972240-52ee-4262-b358-aa8501f4e831",
   "metadata": {},
   "outputs": [
    {
     "name": "stdout",
     "output_type": "stream",
     "text": [
      "Connection Established!\n"
     ]
    }
   ],
   "source": [
    "try:\n",
    "    conn = psycopg2.connect(\"host = localhost dbname = postgres user = postgres password = 2116\")\n",
    "    print(\"Connection Established!\")\n",
    "except psycopg2.Error as e:\n",
    "    print(\"Error: Could not make connection to the Postgres Database\")\n",
    "    print(e)"
   ]
  },
  {
   "cell_type": "markdown",
   "id": "6431389a-ff25-4998-9a27-9fd49eb3c0bd",
   "metadata": {},
   "source": [
    "# Use the connection to get a cursor that can be used to execute queries."
   ]
  },
  {
   "cell_type": "code",
   "execution_count": 6,
   "id": "39f51d74-ba5c-4506-a747-847f7ae426a0",
   "metadata": {},
   "outputs": [],
   "source": [
    "try:\n",
    "    cur = conn.cursor()\n",
    "except psycopg2.Error as e:\n",
    "    print(\"Error: Could not get cursor to the Database\")\n",
    "    print(e)"
   ]
  },
  {
   "cell_type": "markdown",
   "id": "37a71763-c7f2-4cb4-b4af-7cfdb0ced5ed",
   "metadata": {},
   "source": [
    "# Set automatic commit to be true so that each action is committed without having to call conn.commit() after each command."
   ]
  },
  {
   "cell_type": "code",
   "execution_count": 7,
   "id": "d1274984-7018-42c8-b53d-84a33a5dfff9",
   "metadata": {},
   "outputs": [],
   "source": [
    "conn.set_session(autocommit = True)"
   ]
  },
  {
   "cell_type": "markdown",
   "id": "4ee795d2-149c-4e7a-9cdd-895ab86e65d7",
   "metadata": {},
   "source": [
    "# Create a database to do work in"
   ]
  },
  {
   "cell_type": "code",
   "execution_count": 8,
   "id": "baefb4be-d819-4364-ae55-7f236191b78c",
   "metadata": {},
   "outputs": [
    {
     "name": "stdout",
     "output_type": "stream",
     "text": [
      "Database Created\n"
     ]
    }
   ],
   "source": [
    "try:\n",
    "    cur.execute(\"Create database myfirstdb\")\n",
    "    print(\"Database Created\")\n",
    "except psycopg2.Error as e:\n",
    "    print(e)"
   ]
  },
  {
   "cell_type": "markdown",
   "id": "15b63181-f7ae-4408-9701-57d9979649ec",
   "metadata": {},
   "source": [
    "# Add the database name in the connect statement. Let's close our connection to the default database, reconnect to the udacity database, and get a new cursor."
   ]
  },
  {
   "cell_type": "code",
   "execution_count": 9,
   "id": "a78ab00d-bd00-440b-aba0-ff661eb42135",
   "metadata": {},
   "outputs": [],
   "source": [
    "try:\n",
    "    conn.close()\n",
    "except psycopg2.Error as e:\n",
    "    print(e)"
   ]
  },
  {
   "cell_type": "code",
   "execution_count": 2,
   "id": "e74ea045-a935-4bc8-9115-669f984f6df5",
   "metadata": {},
   "outputs": [
    {
     "name": "stdout",
     "output_type": "stream",
     "text": [
      "Connection Established!\n"
     ]
    }
   ],
   "source": [
    "try:\n",
    "    conn = psycopg2.connect(\"host = localhost dbname = myfirstdb user = postgres password = 2116\")\n",
    "    print(\"Connection Established!\")\n",
    "except psycopg2.Error as e:\n",
    "    print(\"Error: Could not make connection to the Postgres Database\")\n",
    "    print(e)\n",
    "\n",
    "try:\n",
    "    cur = conn.cursor()\n",
    "except psycopg2.Error as e:\n",
    "    print(\"Error: Could not get cursor to the Database\")\n",
    "    print(e)\n",
    "\n",
    "conn.set_session(autocommit = True)"
   ]
  },
  {
   "cell_type": "markdown",
   "id": "db221cd3-9968-4760-9475-d47fec93137a",
   "metadata": {},
   "source": [
    "# Create Table for Students which includes below columns\n",
    "Student_id   \n",
    "name  \n",
    "age  \n",
    "gender  \n",
    "subject  \n",
    "marks  "
   ]
  },
  {
   "cell_type": "code",
   "execution_count": 8,
   "id": "fb497c0d-8f24-4816-9bc1-bdbb730436df",
   "metadata": {},
   "outputs": [],
   "source": [
    "try:\n",
    "    cur.execute(\"CREATE TABLE student (student_id int, name varchar, \\\n",
    "    age int, gender varchar, subjects varchar, marks int);\")\n",
    "except psycopg2.Error as e:\n",
    "    print(\"Error: Issue creating table\")\n",
    "    print(e)"
   ]
  },
  {
   "cell_type": "markdown",
   "id": "fcf442d8-b877-4a3b-82a5-c5d4316c1fb0",
   "metadata": {},
   "source": [
    "# Insert the following 3 rows in the table\n",
    "##### First Row : 1, \"Izhan\",20, \"Male\", \"Python\", 85\n",
    "##### Second Row : 2, \"Abdullah\",20, \"Male\", \"Python\", 67\n",
    "##### Third Row : 3, \"Alia\",18, \"Female\", \"Java\", 28"
   ]
  },
  {
   "cell_type": "code",
   "execution_count": 11,
   "id": "8b45902b-92da-4b8f-86d9-332b7a6a18ff",
   "metadata": {},
   "outputs": [],
   "source": [
    "# 1st Row\n",
    "try:\n",
    "    cur.execute(\"INSERT INTO student (student_id, name, age, gender, subjects, marks) \\\n",
    "                VALUES (%s , %s, %s, %s, %s, %s)\", \\\n",
    "                (1,\"Izhan\",20,\"Male\",\"Python\",85))\n",
    "except psycopg2.Error as e:\n",
    "    print(\"Error: Inserting Rows\")\n",
    "    print(e)\n",
    "\n",
    "# 2nd Row\n",
    "try:\n",
    "    cur.execute(\"INSERT INTO student (student_id, name, age, gender, subjects, marks) \\\n",
    "                VALUES (%s , %s, %s, %s, %s, %s)\", \\\n",
    "                (2,\"Abdullah\",20,\"Male\",\"Python\",67))\n",
    "except psycopg2.Error as e:\n",
    "    print(\"Error: Inserting Rows\")\n",
    "    print(e)\n",
    "\n",
    "# 3rd Row\n",
    "try:\n",
    "    cur.execute(\"INSERT INTO student (student_id, name, age, gender, subjects, marks) \\\n",
    "                VALUES (%s , %s, %s, %s, %s, %s)\", \\\n",
    "                (3,\"Alia\",18,\"Female\",\"Java\",28))\n",
    "except psycopg2.Error as e:\n",
    "    print(\"Error: Inserting Rows\")\n",
    "    print(e)"
   ]
  },
  {
   "cell_type": "markdown",
   "id": "46769f9f-71fe-4e2c-b9de-c263775f596e",
   "metadata": {},
   "source": [
    "# Validate your data was inserted into the table."
   ]
  },
  {
   "cell_type": "code",
   "execution_count": 14,
   "id": "4d0ed083-38d2-43ba-84bc-4daf23fc128d",
   "metadata": {},
   "outputs": [
    {
     "name": "stdout",
     "output_type": "stream",
     "text": [
      "(1, 'Izhan', 20, 'Male', 'Python', 85)\n",
      "(2, 'Abdullah', 20, 'Male', 'Python', 67)\n",
      "(3, 'Alia', 18, 'Female', 'Java', 28)\n",
      "Data Inserted!\n"
     ]
    }
   ],
   "source": [
    "try:\n",
    "    cur.execute(\"Select * from Student;\")\n",
    "except psycopg2.Error as e:\n",
    "    print(\"Error: Select * \")\n",
    "    print(e)\n",
    "\n",
    "# use fetchone() as a function\n",
    "\n",
    "row = cur.fetchone()\n",
    "while row:\n",
    "    print(row)\n",
    "    row = cur.fetchone()\n",
    "print(\"Data Inserted!\")"
   ]
  },
  {
   "cell_type": "markdown",
   "id": "74f5d792-a374-4eed-8f72-81d92ec44067",
   "metadata": {},
   "source": [
    "# And Finally close the cursor and connection."
   ]
  },
  {
   "cell_type": "code",
   "execution_count": 15,
   "id": "8b0a3659-70d9-4857-9961-7c43908293cc",
   "metadata": {},
   "outputs": [],
   "source": [
    "cur.close()\n",
    "conn.close()"
   ]
  },
  {
   "cell_type": "code",
   "execution_count": null,
   "id": "36e28a8a-20c3-482f-a15b-cd64467ae757",
   "metadata": {},
   "outputs": [],
   "source": []
  }
 ],
 "metadata": {
  "kernelspec": {
   "display_name": "Python 3 (ipykernel)",
   "language": "python",
   "name": "python3"
  },
  "language_info": {
   "codemirror_mode": {
    "name": "ipython",
    "version": 3
   },
   "file_extension": ".py",
   "mimetype": "text/x-python",
   "name": "python",
   "nbconvert_exporter": "python",
   "pygments_lexer": "ipython3",
   "version": "3.11.4"
  }
 },
 "nbformat": 4,
 "nbformat_minor": 5
}
